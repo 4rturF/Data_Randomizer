{
 "cells": [
  {
   "cell_type": "code",
   "execution_count": 57,
   "id": "1f4de5e5",
   "metadata": {},
   "outputs": [],
   "source": [
    "from bs4 import BeautifulSoup\n",
    "from requests import get\n",
    "import csv\n",
    "import re"
   ]
  },
  {
   "cell_type": "code",
   "execution_count": 73,
   "id": "ab242c0f",
   "metadata": {},
   "outputs": [
    {
     "ename": "ValueError",
     "evalue": "could not convert string to float: '9\\xa0795.00 '",
     "output_type": "error",
     "traceback": [
      "\u001b[1;31m---------------------------------------------------------------------------\u001b[0m",
      "\u001b[1;31mValueError\u001b[0m                                Traceback (most recent call last)",
      "\u001b[1;32m<ipython-input-73-e008b8cb46ce>\u001b[0m in \u001b[0;36m<module>\u001b[1;34m\u001b[0m\n\u001b[0;32m     59\u001b[0m             \u001b[1;32mpass\u001b[0m\u001b[1;33m\u001b[0m\u001b[1;33m\u001b[0m\u001b[0m\n\u001b[0;32m     60\u001b[0m \u001b[1;31m# for i in range(23,25):\u001b[0m\u001b[1;33m\u001b[0m\u001b[1;33m\u001b[0m\u001b[1;33m\u001b[0m\u001b[0m\n\u001b[1;32m---> 61\u001b[1;33m \u001b[0mproduct_data_tocsv\u001b[0m\u001b[1;33m(\u001b[0m\u001b[1;36m23\u001b[0m\u001b[1;33m)\u001b[0m\u001b[1;33m\u001b[0m\u001b[1;33m\u001b[0m\u001b[0m\n\u001b[0m\u001b[0;32m     62\u001b[0m \u001b[1;33m\u001b[0m\u001b[0m\n\u001b[0;32m     63\u001b[0m \u001b[1;32mwith\u001b[0m \u001b[0mopen\u001b[0m\u001b[1;33m(\u001b[0m\u001b[1;34m'food_item_list.csv'\u001b[0m\u001b[1;33m,\u001b[0m \u001b[1;34m'w'\u001b[0m\u001b[1;33m,\u001b[0m \u001b[0mencoding\u001b[0m\u001b[1;33m=\u001b[0m\u001b[1;34m'utf-8'\u001b[0m\u001b[1;33m,\u001b[0m \u001b[0mnewline\u001b[0m\u001b[1;33m=\u001b[0m\u001b[1;34m''\u001b[0m\u001b[1;33m)\u001b[0m \u001b[1;32mas\u001b[0m \u001b[0mfood_csv\u001b[0m\u001b[1;33m:\u001b[0m\u001b[1;33m\u001b[0m\u001b[1;33m\u001b[0m\u001b[0m\n",
      "\u001b[1;32m<ipython-input-73-e008b8cb46ce>\u001b[0m in \u001b[0;36mproduct_data_tocsv\u001b[1;34m(page_num)\u001b[0m\n\u001b[0;32m     44\u001b[0m \u001b[1;33m\u001b[0m\u001b[0m\n\u001b[0;32m     45\u001b[0m             \u001b[1;32mif\u001b[0m \u001b[0mre\u001b[0m\u001b[1;33m.\u001b[0m\u001b[0msearch\u001b[0m\u001b[1;33m(\u001b[0m\u001b[1;34mr'zł/1 kg\\Z'\u001b[0m\u001b[1;33m,\u001b[0m \u001b[0mprice_kg_raw\u001b[0m\u001b[1;33m)\u001b[0m\u001b[1;33m:\u001b[0m\u001b[1;33m\u001b[0m\u001b[1;33m\u001b[0m\u001b[0m\n\u001b[1;32m---> 46\u001b[1;33m                 \u001b[0mprice_kg\u001b[0m \u001b[1;33m=\u001b[0m \u001b[0mfloat\u001b[0m\u001b[1;33m(\u001b[0m\u001b[0mre\u001b[0m\u001b[1;33m.\u001b[0m\u001b[0msplit\u001b[0m\u001b[1;33m(\u001b[0m\u001b[1;34mr'zł/1 kg\\Z'\u001b[0m\u001b[1;33m,\u001b[0m \u001b[0mprice_kg_raw\u001b[0m\u001b[1;33m)\u001b[0m\u001b[1;33m[\u001b[0m\u001b[1;36m0\u001b[0m\u001b[1;33m]\u001b[0m\u001b[1;33m.\u001b[0m\u001b[0mreplace\u001b[0m\u001b[1;33m(\u001b[0m\u001b[1;34m\",\"\u001b[0m\u001b[1;33m,\u001b[0m\u001b[1;34m\".\"\u001b[0m\u001b[1;33m)\u001b[0m\u001b[1;33m)\u001b[0m\u001b[1;33m\u001b[0m\u001b[1;33m\u001b[0m\u001b[0m\n\u001b[0m\u001b[0;32m     47\u001b[0m \u001b[1;33m\u001b[0m\u001b[0m\n\u001b[0;32m     48\u001b[0m             \u001b[1;32melif\u001b[0m \u001b[0mre\u001b[0m\u001b[1;33m.\u001b[0m\u001b[0msearch\u001b[0m\u001b[1;33m(\u001b[0m\u001b[1;34mr'szt.\\Z'\u001b[0m\u001b[1;33m,\u001b[0m \u001b[0mprice_kg_raw\u001b[0m\u001b[1;33m)\u001b[0m\u001b[1;33m:\u001b[0m\u001b[1;33m\u001b[0m\u001b[1;33m\u001b[0m\u001b[0m\n",
      "\u001b[1;31mValueError\u001b[0m: could not convert string to float: '9\\xa0795.00 '"
     ]
    }
   ],
   "source": [
    "url = 'https://www.carrefour.pl/artykuly-spozywcze'\n",
    "food_list = []\n",
    "\n",
    "def csv_price_format(price):\n",
    "    return float(price.replace(\" \", \"\").replace(\"zł\", \"\").replace(\",\",\".\"))\n",
    "\n",
    "\n",
    "def csv_pname_format(product):\n",
    "    return product.replace(\",\",\".\")\n",
    "\n",
    "def product_data_tocsv(page_num):\n",
    "\n",
    "    site = get(f'{url}?page={page_num}')\n",
    "    bs = BeautifulSoup(site.content, 'html.parser')\n",
    "    \n",
    "    for offer in bs.find_all('div', class_='jss304'):\n",
    "    \n",
    "        try:\n",
    "            \n",
    "            product = csv_pname_format(offer.find('span',class_='MuiTypography-root jss199 jss310 MuiTypography-h5').get_text().strip())\n",
    "\n",
    "            price = csv_price_format(offer.find('div', class_='MuiTypography-root jss318 MuiTypography-h3').get_text().strip())\n",
    "            \n",
    "            measure = offer.find('span',class_='MuiTypography-root jss199 jss321 MuiTypography-caption MuiTypography-colorTextSecondary').get_text().strip()\n",
    "            \n",
    "            if re.search(r'kg\\Z', measure):\n",
    "                weight = float(re.split(r' kg\\Z', measure)[0].replace(\",\",\".\"))\n",
    "                quantity = 'N/D'\n",
    "                liters = 'N/D'\n",
    "\n",
    "            elif re.search(r'szt.\\Z', measure):\n",
    "                weight = 'N/D'\n",
    "                quantity = float(re.split(r' szt.\\Z', measure)[0].replace(\",\",\".\"))\n",
    "                liters = 'N/D'\n",
    "\n",
    "            elif re.search(r'l\\Z', measure):\n",
    "                weight = 'N/D'\n",
    "                quantity = 'N/D'\n",
    "                liters = float(re.split(r' l\\Z', measure)[0].replace(\",\",\".\"))\n",
    "            \n",
    "            \n",
    "            price_kg_raw = offer.find('span',class_='MuiTypography-root MuiTypography-caption MuiTypography-colorTextSecondary').get_text().strip()\n",
    "            \n",
    "\n",
    "            if re.search(r'zł/1 kg\\Z', price_kg_raw):\n",
    "                price_kg = float(re.split(r'zł/1 kg\\Z', price_kg_raw)[0].replace(\",\",\".\"))\n",
    "\n",
    "            elif re.search(r'szt.\\Z', price_kg_raw):\n",
    "                price_kg = float(re.split(r' zł/1 szt.\\Z', price_kg_raw)[0].replace(\",\",\".\"))\n",
    "\n",
    "            elif re.search(r'l\\Z', price_kg_raw):\n",
    "                price_kg = float(re.split(r' zł/1 l\\Z', price_kg_raw)[0].replace(\",\",\".\"))\n",
    "\n",
    "\n",
    "                \n",
    "            food_list.append([product,price,price_kg,weight,quantity,liters])\n",
    "            \n",
    "        except AttributeError:\n",
    "            pass\n",
    "# for i in range(23,25):        \n",
    "product_data_tocsv(23)\n",
    "    \n",
    "with open('food_item_list.csv', 'w', encoding='utf-8', newline='') as food_csv:\n",
    "    writer=csv.writer(food_csv)\n",
    "    writer.writerow(['Produkt','Cena','Cena za kg/szt./litr','Waga [KG]','Ilość [Sztuki]','Litry'])\n",
    "    writer.writerows(food_list)\n",
    "        "
   ]
  }
 ],
 "metadata": {
  "kernelspec": {
   "display_name": "Python 3",
   "language": "python",
   "name": "python3"
  },
  "language_info": {
   "codemirror_mode": {
    "name": "ipython",
    "version": 3
   },
   "file_extension": ".py",
   "mimetype": "text/x-python",
   "name": "python",
   "nbconvert_exporter": "python",
   "pygments_lexer": "ipython3",
   "version": "3.9.5"
  }
 },
 "nbformat": 4,
 "nbformat_minor": 5
}
