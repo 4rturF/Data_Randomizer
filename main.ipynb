{
 "cells": [
  {
   "cell_type": "code",
   "execution_count": 2,
   "id": "fd219a8f",
   "metadata": {},
   "outputs": [],
   "source": [
    "# Importing modules\n",
    "import pandas as pd\n",
    "import wget\n",
    "import csv\n",
    "import random\n",
    "import os"
   ]
  },
  {
   "cell_type": "code",
   "execution_count": 3,
   "id": "b6cc58e9",
   "metadata": {
    "scrolled": true
   },
   "outputs": [],
   "source": [
    "# Creating tables\n",
    "\n",
    "woman_names = []\n",
    "man_names = []\n",
    "\n",
    "woman_surnames = []\n",
    "man_surnames = []\n",
    "\n",
    "\n",
    "try:\n",
    "\n",
    "# Downloading woman names from  https://dane.gov.pl/pl/dataset/1501,lista-imion-wystepujacych-w-rejestrze-pesel/resource/28099/table?page=1&per_page=20&q=&sort=    \n",
    "    \n",
    "    woman_names_url = r'https://bit.ly/3iXOZzs'\n",
    "    woman_names_file = wget.download(woman_names_url)\n",
    "\n",
    "\n",
    "    with open(woman_names_file, 'rt',encoding='utf-8' ,errors=\"ignore\") as woman_names_csv:\n",
    "        \n",
    "        csv_read_woman = csv.DictReader(woman_names_csv)\n",
    "        \n",
    "        for row in csv_read_woman:\n",
    "                woman_names.append(row['IMIĘ_PIERWSZE'])\n",
    "                \n",
    "    os.remove('3iXOZzs')\n",
    "\n",
    "            \n",
    "# Downloading man names from https://dane.gov.pl/pl/dataset/1501,lista-imion-wystepujacych-w-rejestrze-pesel/resource/28100/table?page=1&per_page=20&q=&sort=\n",
    "\n",
    "\n",
    "    man_names_url = r'https://bit.ly/3qpdUgX'\n",
    "    man_names_file = wget.download(man_names_url)\n",
    "\n",
    "\n",
    "    with open(man_names_file, 'rt',encoding='utf-8' ,errors=\"ignore\") as man_names_csv:\n",
    "        \n",
    "        csv_read_man = csv.DictReader(man_names_csv)\n",
    "        \n",
    "        for row in csv_read_man:\n",
    "                man_names.append(row['IMIĘ_PIERWSZE'])\n",
    "                \n",
    "    os.remove('3qpdUgX')\n",
    "            \n",
    "# Downloading woman surnames from https://dane.gov.pl/pl/dataset/1681,nazwiska-osob-zyjacych-wystepujace-w-rejestrze-pesel/resource/28080/table?page=1&per_page=20&q=&sort=\n",
    "\n",
    "    woman_surnames_url = r'https://bit.ly/3zMpBCK'\n",
    "    woman_surnames_file = wget.download(woman_surnames_url)\n",
    "\n",
    "\n",
    "    with open(woman_surnames_file, 'rt',encoding='utf-8' ,errors=\"ignore\") as woman_surnames_csv:\n",
    "        \n",
    "        csv_read_woman_surnames = csv.DictReader(woman_surnames_csv)\n",
    "        \n",
    "        for row in csv_read_woman_surnames:\n",
    "                woman_surnames.append(row['Nazwisko aktualne'])\n",
    "                \n",
    "    os.remove('3zMpBCK')\n",
    "\n",
    "# Downloading man surnames from https://dane.gov.pl/pl/dataset/1681,nazwiska-osob-zyjacych-wystepujace-w-rejestrze-pesel/resource/28052/table?page=1&per_page=20&q=&sort=             \n",
    "\n",
    "    man_surnames_url = r'https://bit.ly/3japaMq'\n",
    "    man_surnames_file = wget.download(man_surnames_url)\n",
    "\n",
    "    with open(man_surnames_file, 'rt',encoding='utf-8' ,errors=\"ignore\") as man_surnames_csv:\n",
    "        \n",
    "        csv_read_man_surnames = csv.DictReader(man_surnames_csv)\n",
    "        \n",
    "        for row in csv_read_man_surnames:\n",
    "                man_surnames.append(row['Nazwisko aktualne'])\n",
    "                \n",
    "    os.remove('3japaMq')\n",
    "                \n",
    "except ValueError:\n",
    "    print('Files already exist!')\n",
    "    pass\n",
    "\n",
    "\n",
    "except KeyError:\n",
    "    print('Wrong dictionary key')"
   ]
  },
  {
   "cell_type": "code",
   "execution_count": 4,
   "id": "38a3f5df",
   "metadata": {
    "scrolled": true
   },
   "outputs": [
    {
     "name": "stdout",
     "output_type": "stream",
     "text": [
      "[['MAIKEL', 'MAKIŁŁO', 52, 'MĘŻCZYZNA'], ['LEANNA', 'DĘBAKOWSKA', 56, 'KOBIETA'], ['JUNNOSUKE', 'CATS', 65, 'MĘŻCZYZNA'], ['HUILI', 'GREIL', 22, 'KOBIETA'], ['QUOC NAM', 'KURJAŃSKI', 54, 'MĘŻCZYZNA'], ['BIRGITTA', 'LOS-PŁAWSZEWSKA', 48, 'KOBIETA'], ['MAKSYMIAN', 'KEREN ZVI', 46, 'MĘŻCZYZNA'], ['RADKHA', 'KABAKLI', 49, 'KOBIETA'], ['CHRISTIANN', 'FLATAU-KOWALSKI', 31, 'MĘŻCZYZNA'], ['ORYSTA', 'SYROWICZKA', 58, 'KOBIETA'], ['HONGXING', 'LIND', 47, 'MĘŻCZYZNA'], ['STAFANIA', 'STEFFKE', 64, 'KOBIETA'], ['PEDRO', 'HOLOVA', 56, 'MĘŻCZYZNA'], ['SULAMITA', 'SARRON', 42, 'KOBIETA'], ['KASIAN', 'GRACA', 59, 'MĘŻCZYZNA'], ['MITSUE', 'JÄCKEL', 21, 'KOBIETA'], ['WENANTY', 'ZAPISHNYI', 69, 'MĘŻCZYZNA'], ['AISTE', 'CHRISSIDOU', 22, 'KOBIETA'], ['KWANG YONG', 'TASIOR', 69, 'MĘŻCZYZNA'], ['MAKSI', 'ŞÜKÜR', 24, 'KOBIETA'], ['JERZY       TADEUSZ', 'SWIĘDZIOŁ', 38, 'MĘŻCZYZNA'], ['HUDA', 'MARTUŚ', 68, 'KOBIETA'], ['KEVIN', 'KHAMUTOU', 37, 'MĘŻCZYZNA'], ['ANGELLA', 'CHUPILKO', 18, 'KOBIETA'], ['ARNAS', 'CHYNADEL', 20, 'MĘŻCZYZNA'], ['THỊ PHƯƠNG THẢO', 'HO-JANECKA', 67, 'KOBIETA'], ['ABDELHAFIZ', 'JENDRAK', 47, 'MĘŻCZYZNA'], ['SOBIESŁAWA', 'ZAZVIRSKA', 22, 'KOBIETA']]\n"
     ]
    }
   ],
   "source": [
    "        \n",
    "def rand_consumer_list(num=1, man_possibility=1.0, woman_possibility=1.0, min_age=18, max_age=70):\n",
    "    \n",
    "    consumer_list = []\n",
    "    x = 0\n",
    "    \n",
    "    while x < num:\n",
    "        possibility_roll = random.random()\n",
    "        \n",
    "        if possibility_roll <= man_possibility:\n",
    "            \n",
    "            consumer_list.append([random.choice(man_names),\n",
    "                                  random.choice(man_surnames),\n",
    "                                  random.randint(min_age,max_age),\n",
    "                                  \"MĘŻCZYZNA\"\n",
    "                                 ])\n",
    "                \n",
    "                \n",
    "        if possibility_roll <= woman_possibility:\n",
    "            \n",
    "            consumer_list.append([random.choice(woman_names),\n",
    "                                  random.choice(woman_surnames),\n",
    "                                  random.randint(min_age,max_age),\n",
    "                                  \"KOBIETA\"\n",
    "                                 ])\n",
    "        x+=1\n",
    "        \n",
    "        \n",
    "    print(consumer_list) \n",
    "    \n",
    "rand_consumer_list(14)    "
   ]
  },
  {
   "cell_type": "code",
   "execution_count": 89,
   "id": "a8aa71ea",
   "metadata": {},
   "outputs": [],
   "source": []
  }
 ],
 "metadata": {
  "kernelspec": {
   "display_name": "Python 3",
   "language": "python",
   "name": "python3"
  },
  "language_info": {
   "codemirror_mode": {
    "name": "ipython",
    "version": 3
   },
   "file_extension": ".py",
   "mimetype": "text/x-python",
   "name": "python",
   "nbconvert_exporter": "python",
   "pygments_lexer": "ipython3",
   "version": "3.9.5"
  }
 },
 "nbformat": 4,
 "nbformat_minor": 5
}
